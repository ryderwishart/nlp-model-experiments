{
  "cells": [
    {
      "cell_type": "markdown",
      "metadata": {
        "id": "view-in-github",
        "colab_type": "text"
      },
      "source": [
        "<a href=\"https://colab.research.google.com/github/ryderwishart/nlp-model-experiments/blob/main/Greek_BERT_one_word_type.ipynb\" target=\"_parent\"><img src=\"https://colab.research.google.com/assets/colab-badge.svg\" alt=\"Open In Colab\"/></a>"
      ]
    },
    {
      "cell_type": "code",
      "execution_count": null,
      "metadata": {
        "id": "2QWkipD6D7xN"
      },
      "outputs": [],
      "source": []
    },
    {
      "cell_type": "code",
      "execution_count": null,
      "metadata": {
        "id": "m_r1VzNJGt8j"
      },
      "outputs": [],
      "source": [
        "# uncomment if you want to quickly delete unwanted files from previous model training\n",
        "#import shutil\n",
        "#shutil.rmtree('output')"
      ]
    },
    {
      "cell_type": "markdown",
      "metadata": {
        "id": "5C9THvU4DcYS"
      },
      "source": [
        "Follow the general approach in this POS-tagging notebook: https://github.com/Kyubyong/nlp_made_easy/blob/master/Pos-tagging%20with%20Bert%20Fine-tuning.ipynb"
      ]
    },
    {
      "cell_type": "code",
      "execution_count": null,
      "metadata": {
        "colab": {
          "base_uri": "https://localhost:8080/"
        },
        "id": "ETNWnns13guq",
        "outputId": "f2ef8853-e24c-4603-df83-ee6f1d090d5e"
      },
      "outputs": [
        {
          "name": "stdout",
          "output_type": "stream",
          "text": [
            "Looking in indexes: https://pypi.org/simple, https://us-python.pkg.dev/colab-wheels/public/simple/\n",
            "Requirement already satisfied: transformers in /usr/local/lib/python3.9/dist-packages (4.27.2)\n",
            "Requirement already satisfied: huggingface-hub<1.0,>=0.11.0 in /usr/local/lib/python3.9/dist-packages (from transformers) (0.13.3)\n",
            "Requirement already satisfied: regex!=2019.12.17 in /usr/local/lib/python3.9/dist-packages (from transformers) (2022.10.31)\n",
            "Requirement already satisfied: numpy>=1.17 in /usr/local/lib/python3.9/dist-packages (from transformers) (1.22.4)\n",
            "Requirement already satisfied: requests in /usr/local/lib/python3.9/dist-packages (from transformers) (2.27.1)\n",
            "Requirement already satisfied: filelock in /usr/local/lib/python3.9/dist-packages (from transformers) (3.10.0)\n",
            "Requirement already satisfied: tokenizers!=0.11.3,<0.14,>=0.11.1 in /usr/local/lib/python3.9/dist-packages (from transformers) (0.13.2)\n",
            "Requirement already satisfied: tqdm>=4.27 in /usr/local/lib/python3.9/dist-packages (from transformers) (4.65.0)\n",
            "Requirement already satisfied: pyyaml>=5.1 in /usr/local/lib/python3.9/dist-packages (from transformers) (6.0)\n",
            "Requirement already satisfied: packaging>=20.0 in /usr/local/lib/python3.9/dist-packages (from transformers) (23.0)\n",
            "Requirement already satisfied: typing-extensions>=3.7.4.3 in /usr/local/lib/python3.9/dist-packages (from huggingface-hub<1.0,>=0.11.0->transformers) (4.5.0)\n",
            "Requirement already satisfied: charset-normalizer~=2.0.0 in /usr/local/lib/python3.9/dist-packages (from requests->transformers) (2.0.12)\n",
            "Requirement already satisfied: urllib3<1.27,>=1.21.1 in /usr/local/lib/python3.9/dist-packages (from requests->transformers) (1.26.15)\n",
            "Requirement already satisfied: idna<4,>=2.5 in /usr/local/lib/python3.9/dist-packages (from requests->transformers) (3.4)\n",
            "Requirement already satisfied: certifi>=2017.4.17 in /usr/local/lib/python3.9/dist-packages (from requests->transformers) (2022.12.7)\n"
          ]
        }
      ],
      "source": [
        "!pip install transformers"
      ]
    },
    {
      "cell_type": "code",
      "execution_count": null,
      "metadata": {
        "colab": {
          "base_uri": "https://localhost:8080/"
        },
        "id": "oh02vBxxLS4J",
        "outputId": "a32f89e5-14e2-4727-9e59-e1edf824f526"
      },
      "outputs": [
        {
          "name": "stdout",
          "output_type": "stream",
          "text": [
            "Drive already mounted at /content/MyDrive; to attempt to forcibly remount, call drive.mount(\"/content/MyDrive\", force_remount=True).\n"
          ]
        }
      ],
      "source": [
        "import unicodedata\n",
        "from google.colab import drive\n",
        "import pandas as pd\n",
        "import re\n",
        "from transformers import BertTokenizer, BertForSequenceClassification\n",
        "import torch\n",
        "from transformers import TrainingArguments, Trainer\n",
        "from sklearn.model_selection import train_test_split\n",
        "from sklearn.metrics import accuracy_score, recall_score, precision_score, f1_score\n",
        "import numpy as np\n",
        "from transformers import EarlyStoppingCallback\n",
        "from collections import Counter\n",
        "import json\n",
        "\n",
        "drive.mount('/content/MyDrive')"
      ]
    },
    {
      "cell_type": "markdown",
      "metadata": {
        "id": "lr0s8tG5AffU"
      },
      "source": [
        "load in data and dictionaries"
      ]
    },
    {
      "cell_type": "code",
      "execution_count": null,
      "metadata": {
        "id": "W9pdaGrfAexs"
      },
      "outputs": [],
      "source": [
        "data = '/content/MyDrive/MyDrive/Greek Bert Experiment/macula-greek.tsv'\n"
      ]
    },
    {
      "cell_type": "code",
      "execution_count": null,
      "metadata": {
        "id": "4ExpE_X8BMUd"
      },
      "outputs": [],
      "source": [
        "pd.set_option('display.max_columns', None)\n",
        "pd.set_option('display.max_rows', None)"
      ]
    },
    {
      "cell_type": "code",
      "execution_count": null,
      "metadata": {
        "colab": {
          "base_uri": "https://localhost:8080/",
          "height": 357
        },
        "id": "9jFyprS_BP0A",
        "outputId": "17c14c53-55a5-4684-e2a3-0a347b4598b5"
      },
      "outputs": [
        {
          "data": {
            "text/html": [
              "\n",
              "  <div id=\"df-91e36186-9509-47a0-86e6-378733af0b66\">\n",
              "    <div class=\"colab-df-container\">\n",
              "      <div>\n",
              "<style scoped>\n",
              "    .dataframe tbody tr th:only-of-type {\n",
              "        vertical-align: middle;\n",
              "    }\n",
              "\n",
              "    .dataframe tbody tr th {\n",
              "        vertical-align: top;\n",
              "    }\n",
              "\n",
              "    .dataframe thead th {\n",
              "        text-align: right;\n",
              "    }\n",
              "</style>\n",
              "<table border=\"1\" class=\"dataframe\">\n",
              "  <thead>\n",
              "    <tr style=\"text-align: right;\">\n",
              "      <th></th>\n",
              "      <th>xml:id</th>\n",
              "      <th>ref</th>\n",
              "      <th>role</th>\n",
              "      <th>class</th>\n",
              "      <th>type</th>\n",
              "      <th>gloss</th>\n",
              "      <th>text</th>\n",
              "      <th>after</th>\n",
              "      <th>lemma</th>\n",
              "      <th>normalized</th>\n",
              "      <th>strong</th>\n",
              "      <th>morph</th>\n",
              "      <th>person</th>\n",
              "      <th>number</th>\n",
              "      <th>gender</th>\n",
              "      <th>case</th>\n",
              "      <th>tense</th>\n",
              "      <th>voice</th>\n",
              "      <th>mood</th>\n",
              "      <th>degree</th>\n",
              "      <th>domain</th>\n",
              "      <th>ln</th>\n",
              "      <th>frame</th>\n",
              "      <th>subjref</th>\n",
              "      <th>referent</th>\n",
              "    </tr>\n",
              "  </thead>\n",
              "  <tbody>\n",
              "    <tr>\n",
              "      <th>0</th>\n",
              "      <td>n40001001001</td>\n",
              "      <td>MAT 1:1!1</td>\n",
              "      <td></td>\n",
              "      <td>noun</td>\n",
              "      <td>common</td>\n",
              "      <td>[The] book</td>\n",
              "      <td>Βίβλος</td>\n",
              "      <td></td>\n",
              "      <td>βίβλος</td>\n",
              "      <td>Βίβλος</td>\n",
              "      <td>976</td>\n",
              "      <td>N-NSF</td>\n",
              "      <td></td>\n",
              "      <td>singular</td>\n",
              "      <td>feminine</td>\n",
              "      <td>nominative</td>\n",
              "      <td></td>\n",
              "      <td></td>\n",
              "      <td></td>\n",
              "      <td></td>\n",
              "      <td>033005</td>\n",
              "      <td>33.38</td>\n",
              "      <td></td>\n",
              "      <td></td>\n",
              "      <td></td>\n",
              "    </tr>\n",
              "    <tr>\n",
              "      <th>1</th>\n",
              "      <td>n40001001002</td>\n",
              "      <td>MAT 1:1!2</td>\n",
              "      <td></td>\n",
              "      <td>noun</td>\n",
              "      <td>common</td>\n",
              "      <td>of [the] genealogy</td>\n",
              "      <td>γενέσεως</td>\n",
              "      <td></td>\n",
              "      <td>γένεσις</td>\n",
              "      <td>γενέσεως</td>\n",
              "      <td>1078</td>\n",
              "      <td>N-GSF</td>\n",
              "      <td></td>\n",
              "      <td>singular</td>\n",
              "      <td>feminine</td>\n",
              "      <td>genitive</td>\n",
              "      <td></td>\n",
              "      <td></td>\n",
              "      <td></td>\n",
              "      <td></td>\n",
              "      <td>010002 033003</td>\n",
              "      <td>10.24 33.19</td>\n",
              "      <td></td>\n",
              "      <td></td>\n",
              "      <td></td>\n",
              "    </tr>\n",
              "    <tr>\n",
              "      <th>2</th>\n",
              "      <td>n40001001003</td>\n",
              "      <td>MAT 1:1!3</td>\n",
              "      <td></td>\n",
              "      <td>noun</td>\n",
              "      <td>proper</td>\n",
              "      <td>of Jesus</td>\n",
              "      <td>Ἰησοῦ</td>\n",
              "      <td></td>\n",
              "      <td>Ἰησοῦς</td>\n",
              "      <td>Ἰησοῦ</td>\n",
              "      <td>2424</td>\n",
              "      <td>N-GSM</td>\n",
              "      <td></td>\n",
              "      <td>singular</td>\n",
              "      <td>masculine</td>\n",
              "      <td>genitive</td>\n",
              "      <td></td>\n",
              "      <td></td>\n",
              "      <td></td>\n",
              "      <td></td>\n",
              "      <td>093001</td>\n",
              "      <td>93.169a</td>\n",
              "      <td></td>\n",
              "      <td></td>\n",
              "      <td></td>\n",
              "    </tr>\n",
              "    <tr>\n",
              "      <th>3</th>\n",
              "      <td>n40001001004</td>\n",
              "      <td>MAT 1:1!4</td>\n",
              "      <td></td>\n",
              "      <td>noun</td>\n",
              "      <td>proper</td>\n",
              "      <td>Christ</td>\n",
              "      <td>Χριστοῦ</td>\n",
              "      <td></td>\n",
              "      <td>Χριστός</td>\n",
              "      <td>Χριστοῦ</td>\n",
              "      <td>5547</td>\n",
              "      <td>N-GSM</td>\n",
              "      <td></td>\n",
              "      <td>singular</td>\n",
              "      <td>masculine</td>\n",
              "      <td>genitive</td>\n",
              "      <td></td>\n",
              "      <td></td>\n",
              "      <td></td>\n",
              "      <td></td>\n",
              "      <td>093001</td>\n",
              "      <td>93.387</td>\n",
              "      <td></td>\n",
              "      <td></td>\n",
              "      <td></td>\n",
              "    </tr>\n",
              "    <tr>\n",
              "      <th>4</th>\n",
              "      <td>n40001001005</td>\n",
              "      <td>MAT 1:1!5</td>\n",
              "      <td></td>\n",
              "      <td>noun</td>\n",
              "      <td>common</td>\n",
              "      <td>son</td>\n",
              "      <td>υἱοῦ</td>\n",
              "      <td></td>\n",
              "      <td>υἱός</td>\n",
              "      <td>υἱοῦ</td>\n",
              "      <td>5207</td>\n",
              "      <td>N-GSM</td>\n",
              "      <td></td>\n",
              "      <td>singular</td>\n",
              "      <td>masculine</td>\n",
              "      <td>genitive</td>\n",
              "      <td></td>\n",
              "      <td></td>\n",
              "      <td></td>\n",
              "      <td></td>\n",
              "      <td>010002</td>\n",
              "      <td>10.30</td>\n",
              "      <td></td>\n",
              "      <td></td>\n",
              "      <td></td>\n",
              "    </tr>\n",
              "  </tbody>\n",
              "</table>\n",
              "</div>\n",
              "      <button class=\"colab-df-convert\" onclick=\"convertToInteractive('df-91e36186-9509-47a0-86e6-378733af0b66')\"\n",
              "              title=\"Convert this dataframe to an interactive table.\"\n",
              "              style=\"display:none;\">\n",
              "        \n",
              "  <svg xmlns=\"http://www.w3.org/2000/svg\" height=\"24px\"viewBox=\"0 0 24 24\"\n",
              "       width=\"24px\">\n",
              "    <path d=\"M0 0h24v24H0V0z\" fill=\"none\"/>\n",
              "    <path d=\"M18.56 5.44l.94 2.06.94-2.06 2.06-.94-2.06-.94-.94-2.06-.94 2.06-2.06.94zm-11 1L8.5 8.5l.94-2.06 2.06-.94-2.06-.94L8.5 2.5l-.94 2.06-2.06.94zm10 10l.94 2.06.94-2.06 2.06-.94-2.06-.94-.94-2.06-.94 2.06-2.06.94z\"/><path d=\"M17.41 7.96l-1.37-1.37c-.4-.4-.92-.59-1.43-.59-.52 0-1.04.2-1.43.59L10.3 9.45l-7.72 7.72c-.78.78-.78 2.05 0 2.83L4 21.41c.39.39.9.59 1.41.59.51 0 1.02-.2 1.41-.59l7.78-7.78 2.81-2.81c.8-.78.8-2.07 0-2.86zM5.41 20L4 18.59l7.72-7.72 1.47 1.35L5.41 20z\"/>\n",
              "  </svg>\n",
              "      </button>\n",
              "      \n",
              "  <style>\n",
              "    .colab-df-container {\n",
              "      display:flex;\n",
              "      flex-wrap:wrap;\n",
              "      gap: 12px;\n",
              "    }\n",
              "\n",
              "    .colab-df-convert {\n",
              "      background-color: #E8F0FE;\n",
              "      border: none;\n",
              "      border-radius: 50%;\n",
              "      cursor: pointer;\n",
              "      display: none;\n",
              "      fill: #1967D2;\n",
              "      height: 32px;\n",
              "      padding: 0 0 0 0;\n",
              "      width: 32px;\n",
              "    }\n",
              "\n",
              "    .colab-df-convert:hover {\n",
              "      background-color: #E2EBFA;\n",
              "      box-shadow: 0px 1px 2px rgba(60, 64, 67, 0.3), 0px 1px 3px 1px rgba(60, 64, 67, 0.15);\n",
              "      fill: #174EA6;\n",
              "    }\n",
              "\n",
              "    [theme=dark] .colab-df-convert {\n",
              "      background-color: #3B4455;\n",
              "      fill: #D2E3FC;\n",
              "    }\n",
              "\n",
              "    [theme=dark] .colab-df-convert:hover {\n",
              "      background-color: #434B5C;\n",
              "      box-shadow: 0px 1px 3px 1px rgba(0, 0, 0, 0.15);\n",
              "      filter: drop-shadow(0px 1px 2px rgba(0, 0, 0, 0.3));\n",
              "      fill: #FFFFFF;\n",
              "    }\n",
              "  </style>\n",
              "\n",
              "      <script>\n",
              "        const buttonEl =\n",
              "          document.querySelector('#df-91e36186-9509-47a0-86e6-378733af0b66 button.colab-df-convert');\n",
              "        buttonEl.style.display =\n",
              "          google.colab.kernel.accessAllowed ? 'block' : 'none';\n",
              "\n",
              "        async function convertToInteractive(key) {\n",
              "          const element = document.querySelector('#df-91e36186-9509-47a0-86e6-378733af0b66');\n",
              "          const dataTable =\n",
              "            await google.colab.kernel.invokeFunction('convertToInteractive',\n",
              "                                                     [key], {});\n",
              "          if (!dataTable) return;\n",
              "\n",
              "          const docLinkHtml = 'Like what you see? Visit the ' +\n",
              "            '<a target=\"_blank\" href=https://colab.research.google.com/notebooks/data_table.ipynb>data table notebook</a>'\n",
              "            + ' to learn more about interactive tables.';\n",
              "          element.innerHTML = '';\n",
              "          dataTable['output_type'] = 'display_data';\n",
              "          await google.colab.output.renderOutput(dataTable, element);\n",
              "          const docLink = document.createElement('div');\n",
              "          docLink.innerHTML = docLinkHtml;\n",
              "          element.appendChild(docLink);\n",
              "        }\n",
              "      </script>\n",
              "    </div>\n",
              "  </div>\n",
              "  "
            ],
            "text/plain": [
              "         xml:id        ref role class    type               gloss      text  \\\n",
              "0  n40001001001  MAT 1:1!1       noun  common          [The] book    Βίβλος   \n",
              "1  n40001001002  MAT 1:1!2       noun  common  of [the] genealogy  γενέσεως   \n",
              "2  n40001001003  MAT 1:1!3       noun  proper            of Jesus     Ἰησοῦ   \n",
              "3  n40001001004  MAT 1:1!4       noun  proper              Christ   Χριστοῦ   \n",
              "4  n40001001005  MAT 1:1!5       noun  common                 son      υἱοῦ   \n",
              "\n",
              "  after    lemma normalized  strong  morph person    number     gender  \\\n",
              "0         βίβλος     Βίβλος     976  N-NSF         singular   feminine   \n",
              "1        γένεσις   γενέσεως    1078  N-GSF         singular   feminine   \n",
              "2         Ἰησοῦς      Ἰησοῦ    2424  N-GSM         singular  masculine   \n",
              "3        Χριστός    Χριστοῦ    5547  N-GSM         singular  masculine   \n",
              "4           υἱός       υἱοῦ    5207  N-GSM         singular  masculine   \n",
              "\n",
              "         case tense voice mood degree         domain           ln frame  \\\n",
              "0  nominative                                 033005        33.38         \n",
              "1    genitive                          010002 033003  10.24 33.19         \n",
              "2    genitive                                 093001      93.169a         \n",
              "3    genitive                                 093001       93.387         \n",
              "4    genitive                                 010002        10.30         \n",
              "\n",
              "  subjref referent  \n",
              "0                   \n",
              "1                   \n",
              "2                   \n",
              "3                   \n",
              "4                   "
            ]
          },
          "execution_count": 6,
          "metadata": {},
          "output_type": "execute_result"
        }
      ],
      "source": [
        "data = pd.read_csv(data, sep='\\t', keep_default_na=False, encoding='utf-8')\n",
        "data.head()"
      ]
    },
    {
      "cell_type": "code",
      "execution_count": null,
      "metadata": {
        "colab": {
          "base_uri": "https://localhost:8080/",
          "height": 206
        },
        "id": "WpN-tpQfoWKg",
        "outputId": "35de67bd-d29a-4675-8bf4-172c58208aed"
      },
      "outputs": [
        {
          "data": {
            "text/html": [
              "\n",
              "  <div id=\"df-d367c42d-fa4c-4c00-9046-26e737ccdd20\">\n",
              "    <div class=\"colab-df-container\">\n",
              "      <div>\n",
              "<style scoped>\n",
              "    .dataframe tbody tr th:only-of-type {\n",
              "        vertical-align: middle;\n",
              "    }\n",
              "\n",
              "    .dataframe tbody tr th {\n",
              "        vertical-align: top;\n",
              "    }\n",
              "\n",
              "    .dataframe thead th {\n",
              "        text-align: right;\n",
              "    }\n",
              "</style>\n",
              "<table border=\"1\" class=\"dataframe\">\n",
              "  <thead>\n",
              "    <tr style=\"text-align: right;\">\n",
              "      <th></th>\n",
              "      <th>text</th>\n",
              "      <th>type</th>\n",
              "    </tr>\n",
              "  </thead>\n",
              "  <tbody>\n",
              "    <tr>\n",
              "      <th>0</th>\n",
              "      <td>Βίβλος</td>\n",
              "      <td>common</td>\n",
              "    </tr>\n",
              "    <tr>\n",
              "      <th>1</th>\n",
              "      <td>γενέσεως</td>\n",
              "      <td>common</td>\n",
              "    </tr>\n",
              "    <tr>\n",
              "      <th>2</th>\n",
              "      <td>Ἰησοῦ</td>\n",
              "      <td>proper</td>\n",
              "    </tr>\n",
              "    <tr>\n",
              "      <th>3</th>\n",
              "      <td>Χριστοῦ</td>\n",
              "      <td>proper</td>\n",
              "    </tr>\n",
              "    <tr>\n",
              "      <th>4</th>\n",
              "      <td>υἱοῦ</td>\n",
              "      <td>common</td>\n",
              "    </tr>\n",
              "  </tbody>\n",
              "</table>\n",
              "</div>\n",
              "      <button class=\"colab-df-convert\" onclick=\"convertToInteractive('df-d367c42d-fa4c-4c00-9046-26e737ccdd20')\"\n",
              "              title=\"Convert this dataframe to an interactive table.\"\n",
              "              style=\"display:none;\">\n",
              "        \n",
              "  <svg xmlns=\"http://www.w3.org/2000/svg\" height=\"24px\"viewBox=\"0 0 24 24\"\n",
              "       width=\"24px\">\n",
              "    <path d=\"M0 0h24v24H0V0z\" fill=\"none\"/>\n",
              "    <path d=\"M18.56 5.44l.94 2.06.94-2.06 2.06-.94-2.06-.94-.94-2.06-.94 2.06-2.06.94zm-11 1L8.5 8.5l.94-2.06 2.06-.94-2.06-.94L8.5 2.5l-.94 2.06-2.06.94zm10 10l.94 2.06.94-2.06 2.06-.94-2.06-.94-.94-2.06-.94 2.06-2.06.94z\"/><path d=\"M17.41 7.96l-1.37-1.37c-.4-.4-.92-.59-1.43-.59-.52 0-1.04.2-1.43.59L10.3 9.45l-7.72 7.72c-.78.78-.78 2.05 0 2.83L4 21.41c.39.39.9.59 1.41.59.51 0 1.02-.2 1.41-.59l7.78-7.78 2.81-2.81c.8-.78.8-2.07 0-2.86zM5.41 20L4 18.59l7.72-7.72 1.47 1.35L5.41 20z\"/>\n",
              "  </svg>\n",
              "      </button>\n",
              "      \n",
              "  <style>\n",
              "    .colab-df-container {\n",
              "      display:flex;\n",
              "      flex-wrap:wrap;\n",
              "      gap: 12px;\n",
              "    }\n",
              "\n",
              "    .colab-df-convert {\n",
              "      background-color: #E8F0FE;\n",
              "      border: none;\n",
              "      border-radius: 50%;\n",
              "      cursor: pointer;\n",
              "      display: none;\n",
              "      fill: #1967D2;\n",
              "      height: 32px;\n",
              "      padding: 0 0 0 0;\n",
              "      width: 32px;\n",
              "    }\n",
              "\n",
              "    .colab-df-convert:hover {\n",
              "      background-color: #E2EBFA;\n",
              "      box-shadow: 0px 1px 2px rgba(60, 64, 67, 0.3), 0px 1px 3px 1px rgba(60, 64, 67, 0.15);\n",
              "      fill: #174EA6;\n",
              "    }\n",
              "\n",
              "    [theme=dark] .colab-df-convert {\n",
              "      background-color: #3B4455;\n",
              "      fill: #D2E3FC;\n",
              "    }\n",
              "\n",
              "    [theme=dark] .colab-df-convert:hover {\n",
              "      background-color: #434B5C;\n",
              "      box-shadow: 0px 1px 3px 1px rgba(0, 0, 0, 0.15);\n",
              "      filter: drop-shadow(0px 1px 2px rgba(0, 0, 0, 0.3));\n",
              "      fill: #FFFFFF;\n",
              "    }\n",
              "  </style>\n",
              "\n",
              "      <script>\n",
              "        const buttonEl =\n",
              "          document.querySelector('#df-d367c42d-fa4c-4c00-9046-26e737ccdd20 button.colab-df-convert');\n",
              "        buttonEl.style.display =\n",
              "          google.colab.kernel.accessAllowed ? 'block' : 'none';\n",
              "\n",
              "        async function convertToInteractive(key) {\n",
              "          const element = document.querySelector('#df-d367c42d-fa4c-4c00-9046-26e737ccdd20');\n",
              "          const dataTable =\n",
              "            await google.colab.kernel.invokeFunction('convertToInteractive',\n",
              "                                                     [key], {});\n",
              "          if (!dataTable) return;\n",
              "\n",
              "          const docLinkHtml = 'Like what you see? Visit the ' +\n",
              "            '<a target=\"_blank\" href=https://colab.research.google.com/notebooks/data_table.ipynb>data table notebook</a>'\n",
              "            + ' to learn more about interactive tables.';\n",
              "          element.innerHTML = '';\n",
              "          dataTable['output_type'] = 'display_data';\n",
              "          await google.colab.output.renderOutput(dataTable, element);\n",
              "          const docLink = document.createElement('div');\n",
              "          docLink.innerHTML = docLinkHtml;\n",
              "          element.appendChild(docLink);\n",
              "        }\n",
              "      </script>\n",
              "    </div>\n",
              "  </div>\n",
              "  "
            ],
            "text/plain": [
              "       text    type\n",
              "0    Βίβλος  common\n",
              "1  γενέσεως  common\n",
              "2     Ἰησοῦ  proper\n",
              "3   Χριστοῦ  proper\n",
              "4      υἱοῦ  common"
            ]
          },
          "execution_count": 7,
          "metadata": {},
          "output_type": "execute_result"
        }
      ],
      "source": [
        "data = data[['text', 'type']]\n",
        "data.head()"
      ]
    },
    {
      "cell_type": "code",
      "execution_count": null,
      "metadata": {
        "colab": {
          "base_uri": "https://localhost:8080/",
          "height": 206
        },
        "id": "Vxh_G8cnnpGD",
        "outputId": "a2c4572c-f330-4a02-c983-f7842d0496f0"
      },
      "outputs": [
        {
          "data": {
            "text/html": [
              "\n",
              "  <div id=\"df-431f3944-d089-478a-97b2-88e364c5d0a9\">\n",
              "    <div class=\"colab-df-container\">\n",
              "      <div>\n",
              "<style scoped>\n",
              "    .dataframe tbody tr th:only-of-type {\n",
              "        vertical-align: middle;\n",
              "    }\n",
              "\n",
              "    .dataframe tbody tr th {\n",
              "        vertical-align: top;\n",
              "    }\n",
              "\n",
              "    .dataframe thead th {\n",
              "        text-align: right;\n",
              "    }\n",
              "</style>\n",
              "<table border=\"1\" class=\"dataframe\">\n",
              "  <thead>\n",
              "    <tr style=\"text-align: right;\">\n",
              "      <th></th>\n",
              "      <th>text</th>\n",
              "      <th>class</th>\n",
              "    </tr>\n",
              "  </thead>\n",
              "  <tbody>\n",
              "    <tr>\n",
              "      <th>0</th>\n",
              "      <td>Βίβλος</td>\n",
              "      <td>0</td>\n",
              "    </tr>\n",
              "    <tr>\n",
              "      <th>1</th>\n",
              "      <td>γενέσεως</td>\n",
              "      <td>0</td>\n",
              "    </tr>\n",
              "    <tr>\n",
              "      <th>2</th>\n",
              "      <td>Ἰησοῦ</td>\n",
              "      <td>1</td>\n",
              "    </tr>\n",
              "    <tr>\n",
              "      <th>3</th>\n",
              "      <td>Χριστοῦ</td>\n",
              "      <td>1</td>\n",
              "    </tr>\n",
              "    <tr>\n",
              "      <th>4</th>\n",
              "      <td>υἱοῦ</td>\n",
              "      <td>0</td>\n",
              "    </tr>\n",
              "  </tbody>\n",
              "</table>\n",
              "</div>\n",
              "      <button class=\"colab-df-convert\" onclick=\"convertToInteractive('df-431f3944-d089-478a-97b2-88e364c5d0a9')\"\n",
              "              title=\"Convert this dataframe to an interactive table.\"\n",
              "              style=\"display:none;\">\n",
              "        \n",
              "  <svg xmlns=\"http://www.w3.org/2000/svg\" height=\"24px\"viewBox=\"0 0 24 24\"\n",
              "       width=\"24px\">\n",
              "    <path d=\"M0 0h24v24H0V0z\" fill=\"none\"/>\n",
              "    <path d=\"M18.56 5.44l.94 2.06.94-2.06 2.06-.94-2.06-.94-.94-2.06-.94 2.06-2.06.94zm-11 1L8.5 8.5l.94-2.06 2.06-.94-2.06-.94L8.5 2.5l-.94 2.06-2.06.94zm10 10l.94 2.06.94-2.06 2.06-.94-2.06-.94-.94-2.06-.94 2.06-2.06.94z\"/><path d=\"M17.41 7.96l-1.37-1.37c-.4-.4-.92-.59-1.43-.59-.52 0-1.04.2-1.43.59L10.3 9.45l-7.72 7.72c-.78.78-.78 2.05 0 2.83L4 21.41c.39.39.9.59 1.41.59.51 0 1.02-.2 1.41-.59l7.78-7.78 2.81-2.81c.8-.78.8-2.07 0-2.86zM5.41 20L4 18.59l7.72-7.72 1.47 1.35L5.41 20z\"/>\n",
              "  </svg>\n",
              "      </button>\n",
              "      \n",
              "  <style>\n",
              "    .colab-df-container {\n",
              "      display:flex;\n",
              "      flex-wrap:wrap;\n",
              "      gap: 12px;\n",
              "    }\n",
              "\n",
              "    .colab-df-convert {\n",
              "      background-color: #E8F0FE;\n",
              "      border: none;\n",
              "      border-radius: 50%;\n",
              "      cursor: pointer;\n",
              "      display: none;\n",
              "      fill: #1967D2;\n",
              "      height: 32px;\n",
              "      padding: 0 0 0 0;\n",
              "      width: 32px;\n",
              "    }\n",
              "\n",
              "    .colab-df-convert:hover {\n",
              "      background-color: #E2EBFA;\n",
              "      box-shadow: 0px 1px 2px rgba(60, 64, 67, 0.3), 0px 1px 3px 1px rgba(60, 64, 67, 0.15);\n",
              "      fill: #174EA6;\n",
              "    }\n",
              "\n",
              "    [theme=dark] .colab-df-convert {\n",
              "      background-color: #3B4455;\n",
              "      fill: #D2E3FC;\n",
              "    }\n",
              "\n",
              "    [theme=dark] .colab-df-convert:hover {\n",
              "      background-color: #434B5C;\n",
              "      box-shadow: 0px 1px 3px 1px rgba(0, 0, 0, 0.15);\n",
              "      filter: drop-shadow(0px 1px 2px rgba(0, 0, 0, 0.3));\n",
              "      fill: #FFFFFF;\n",
              "    }\n",
              "  </style>\n",
              "\n",
              "      <script>\n",
              "        const buttonEl =\n",
              "          document.querySelector('#df-431f3944-d089-478a-97b2-88e364c5d0a9 button.colab-df-convert');\n",
              "        buttonEl.style.display =\n",
              "          google.colab.kernel.accessAllowed ? 'block' : 'none';\n",
              "\n",
              "        async function convertToInteractive(key) {\n",
              "          const element = document.querySelector('#df-431f3944-d089-478a-97b2-88e364c5d0a9');\n",
              "          const dataTable =\n",
              "            await google.colab.kernel.invokeFunction('convertToInteractive',\n",
              "                                                     [key], {});\n",
              "          if (!dataTable) return;\n",
              "\n",
              "          const docLinkHtml = 'Like what you see? Visit the ' +\n",
              "            '<a target=\"_blank\" href=https://colab.research.google.com/notebooks/data_table.ipynb>data table notebook</a>'\n",
              "            + ' to learn more about interactive tables.';\n",
              "          element.innerHTML = '';\n",
              "          dataTable['output_type'] = 'display_data';\n",
              "          await google.colab.output.renderOutput(dataTable, element);\n",
              "          const docLink = document.createElement('div');\n",
              "          docLink.innerHTML = docLinkHtml;\n",
              "          element.appendChild(docLink);\n",
              "        }\n",
              "      </script>\n",
              "    </div>\n",
              "  </div>\n",
              "  "
            ],
            "text/plain": [
              "       text  class\n",
              "0    Βίβλος      0\n",
              "1  γενέσεως      0\n",
              "2     Ἰησοῦ      1\n",
              "3   Χριστοῦ      1\n",
              "4      υἱοῦ      0"
            ]
          },
          "execution_count": 8,
          "metadata": {},
          "output_type": "execute_result"
        }
      ],
      "source": [
        "type_int = {}\n",
        "\n",
        "label = 0\n",
        "types = data['type'].tolist()\n",
        "for i in range(len(types)):\n",
        "  if types[i] not in type_int:\n",
        "    type_int[types[i]] = label\n",
        "    types[i] = type_int[types[i]]\n",
        "    label += 1\n",
        "  else:\n",
        "    types[i] = type_int[types[i]]\n",
        "\n",
        "data = data.drop('type', axis=1)\n",
        "data['class'] = types\n",
        "\n",
        "data.head()"
      ]
    },
    {
      "cell_type": "code",
      "execution_count": null,
      "metadata": {
        "colab": {
          "base_uri": "https://localhost:8080/"
        },
        "id": "fj4YGtFppX67",
        "outputId": "5306ae8e-bfbe-414f-e6f2-0176b4462161"
      },
      "outputs": [
        {
          "data": {
            "text/plain": [
              "{'common': 0,\n",
              " 'proper': 1,\n",
              " '': 2,\n",
              " 'personal': 3,\n",
              " 'relative': 4,\n",
              " 'demonstrative': 5,\n",
              " 'interrogative': 6,\n",
              " 'indefinite': 7,\n",
              " 'possessive': 8,\n",
              " 'adverbial': 9}"
            ]
          },
          "execution_count": 9,
          "metadata": {},
          "output_type": "execute_result"
        }
      ],
      "source": [
        "type_int"
      ]
    },
    {
      "cell_type": "markdown",
      "metadata": {
        "id": "nMu4OK2s6JgD"
      },
      "source": [
        "# BERT MODEL"
      ]
    },
    {
      "cell_type": "code",
      "execution_count": null,
      "metadata": {
        "id": "rtq6_PPZD2_w"
      },
      "outputs": [],
      "source": [
        "''' \n",
        "other models tested include: \n",
        "nlpaueb/bert-base-greek-uncased-v1, \n",
        "pranaydeeps/Ancient-Greek-BERT, \n",
        "bert-base-multilingual-cased, \n",
        "bert-base-multilingual-uncased\n",
        "'''\n",
        "pretrained = \"pranaydeeps/Ancient-Greek-BERT\""
      ]
    },
    {
      "cell_type": "code",
      "execution_count": null,
      "metadata": {
        "colab": {
          "base_uri": "https://localhost:8080/"
        },
        "id": "gW31bGa-6dnh",
        "outputId": "5786dec4-c9eb-4afd-8ddf-e3e4c4c5def1"
      },
      "outputs": [
        {
          "name": "stderr",
          "output_type": "stream",
          "text": [
            "Some weights of BertForSequenceClassification were not initialized from the model checkpoint at pranaydeeps/Ancient-Greek-BERT and are newly initialized: ['classifier.bias', 'classifier.weight']\n",
            "You should probably TRAIN this model on a down-stream task to be able to use it for predictions and inference.\n"
          ]
        }
      ],
      "source": [
        "tokenizer = BertTokenizer.from_pretrained(pretrained)\n",
        "model = BertForSequenceClassification.from_pretrained(pretrained,\n",
        "                                                      num_labels = len(type_int))"
      ]
    },
    {
      "cell_type": "code",
      "execution_count": null,
      "metadata": {
        "id": "nqfp8ifR6jCe"
      },
      "outputs": [],
      "source": [
        "model = model.to('cuda')"
      ]
    },
    {
      "cell_type": "code",
      "execution_count": null,
      "metadata": {
        "id": "CRtuq2Yit0Ic"
      },
      "outputs": [],
      "source": [
        "# process data\n",
        "# RYDER: might need to add a for-loop and process each sentence in the input data\n",
        "X = list(data['text'])\n",
        "y = list(data['class'])\n",
        "# 70/20/10 split for train, val, and test\n",
        "X_train, X_val, y_train, y_val = train_test_split(X, y, test_size=0.2) # 80/20\n",
        "X_train, X_test, y_train, y_test = train_test_split(X_train, y_train, test_size=0.125) # 70/10\n",
        "X_train_tokenized = tokenizer(X_train, padding=True, truncation=True, max_length=512)\n",
        "X_val_tokenized = tokenizer(X_val, padding=True, truncation=True, max_length=512)"
      ]
    },
    {
      "cell_type": "code",
      "execution_count": null,
      "metadata": {
        "colab": {
          "base_uri": "https://localhost:8080/"
        },
        "id": "Kn4frhPEEkmI",
        "outputId": "41cc049e-da99-45f4-b3c4-9f7856795083"
      },
      "outputs": [
        {
          "data": {
            "text/plain": [
              "['ἐστὶν', 'οἱ', 'σημεῖον', 'ἐκπέσητε', 'ἡ']"
            ]
          },
          "execution_count": 14,
          "metadata": {},
          "output_type": "execute_result"
        }
      ],
      "source": [
        "X_train[:5]"
      ]
    },
    {
      "cell_type": "code",
      "execution_count": null,
      "metadata": {
        "colab": {
          "base_uri": "https://localhost:8080/"
        },
        "id": "x6-sNRSqgN3b",
        "outputId": "e06ff0bf-d3a7-45ed-9892-9b369fe97398"
      },
      "outputs": [
        {
          "name": "stdout",
          "output_type": "stream",
          "text": [
            "96445 items in the training set.\n",
            "27556 items in the validation set.\n",
            "13778 items in the test set.\n"
          ]
        }
      ],
      "source": [
        "print(f'{len(X_train)} items in the training set.')\n",
        "print(f'{len(X_val)} items in the validation set.')\n",
        "print(f'{len(X_test)} items in the test set.')"
      ]
    },
    {
      "cell_type": "code",
      "execution_count": null,
      "metadata": {
        "id": "nrf6vlXBuj98"
      },
      "outputs": [],
      "source": [
        " # Create dataset\n",
        " class Dataset(torch.utils.data.Dataset):\n",
        "    def __init__(self, encodings, labels=None):\n",
        "        self.encodings = encodings\n",
        "        self.labels = labels\n",
        "\n",
        "    def __getitem__(self, idx):\n",
        "        item = {key: torch.tensor(val[idx]) for key, val in self.encodings.items()}\n",
        "        if self.labels:\n",
        "            item[\"labels\"] = torch.tensor(self.labels[idx])\n",
        "        return item\n",
        "\n",
        "    def __len__(self):\n",
        "        return len(self.encodings[\"input_ids\"])\n"
      ]
    },
    {
      "cell_type": "code",
      "execution_count": null,
      "metadata": {
        "id": "S7ybHh3rvom-"
      },
      "outputs": [],
      "source": [
        "train_dataset = Dataset(X_train_tokenized, y_train)\n",
        "val_dataset = Dataset(X_val_tokenized, y_val)"
      ]
    },
    {
      "cell_type": "code",
      "execution_count": null,
      "metadata": {
        "id": "IY_BQe5swGzu"
      },
      "outputs": [],
      "source": [
        "def compute_metrics(p):\n",
        "    pred, labels = p\n",
        "    pred = np.argmax(pred, axis=1)\n",
        "\n",
        "    accuracy = accuracy_score(y_true=labels, y_pred=pred)\n",
        "    recall = recall_score(y_true=labels, y_pred=pred, average='weighted')\n",
        "    precision = precision_score(y_true=labels, y_pred=pred, average='weighted')\n",
        "    f1 = f1_score(y_true=labels, y_pred=pred, average='weighted')\n",
        "\n",
        "    return {\"accuracy\": accuracy, \"precision\": precision, \"recall\": recall, \"f1\": f1}"
      ]
    },
    {
      "cell_type": "code",
      "execution_count": null,
      "metadata": {
        "id": "3G3q3KLqwVdj"
      },
      "outputs": [],
      "source": [
        "args = TrainingArguments(\n",
        "    output_dir=\"/content/MyDrive/MyDrive/Greek Bert Experiment/output\",\n",
        "    evaluation_strategy=\"steps\",\n",
        "    eval_steps=500,\n",
        "    per_device_train_batch_size=2048,\n",
        "    per_device_eval_batch_size=2048,\n",
        "    num_train_epochs=12,\n",
        "    seed=0,\n",
        "    load_best_model_at_end=True,\n",
        ")\n",
        "trainer = Trainer(\n",
        "    model=model,\n",
        "    args=args,\n",
        "    train_dataset=train_dataset,\n",
        "    eval_dataset=val_dataset,\n",
        "    compute_metrics=compute_metrics,\n",
        "    #callbacks=[EarlyStoppingCallback(early_stopping_patience=3)],\n",
        ")\n"
      ]
    },
    {
      "cell_type": "code",
      "execution_count": null,
      "metadata": {
        "colab": {
          "background_save": true,
          "base_uri": "https://localhost:8080/",
          "height": 219
        },
        "id": "o97gb295w5Z9",
        "outputId": "0a420197-8e57-455c-ee42-05e99f1821b8"
      },
      "outputs": [
        {
          "data": {
            "text/html": [
              "\n",
              "    <div>\n",
              "      \n",
              "      <progress value='534' max='576' style='width:300px; height:20px; vertical-align: middle;'></progress>\n",
              "      [534/576 07:54 < 00:37, 1.12 it/s, Epoch 11.10/12]\n",
              "    </div>\n",
              "    <table border=\"1\" class=\"dataframe\">\n",
              "  <thead>\n",
              " <tr style=\"text-align: left;\">\n",
              "      <th>Step</th>\n",
              "      <th>Training Loss</th>\n",
              "      <th>Validation Loss</th>\n",
              "      <th>Accuracy</th>\n",
              "      <th>Precision</th>\n",
              "      <th>Recall</th>\n",
              "      <th>F1</th>\n",
              "    </tr>\n",
              "  </thead>\n",
              "  <tbody>\n",
              "    <tr>\n",
              "      <td>500</td>\n",
              "      <td>0.030700</td>\n",
              "      <td>0.048284</td>\n",
              "      <td>0.986609</td>\n",
              "      <td>0.986279</td>\n",
              "      <td>0.986609</td>\n",
              "      <td>0.986017</td>\n",
              "    </tr>\n",
              "  </tbody>\n",
              "</table><p>"
            ],
            "text/plain": [
              "<IPython.core.display.HTML object>"
            ]
          },
          "metadata": {},
          "output_type": "display_data"
        },
        {
          "name": "stderr",
          "output_type": "stream",
          "text": [
            "/usr/local/lib/python3.9/dist-packages/sklearn/metrics/_classification.py:1344: UndefinedMetricWarning: Precision is ill-defined and being set to 0.0 in labels with no predicted samples. Use `zero_division` parameter to control this behavior.\n",
            "  _warn_prf(average, modifier, msg_start, len(result))\n"
          ]
        }
      ],
      "source": [
        "trainer.train()"
      ]
    },
    {
      "cell_type": "code",
      "execution_count": null,
      "metadata": {
        "id": "7sQHaNOyzKCt"
      },
      "outputs": [],
      "source": [
        "stopruntime"
      ]
    },
    {
      "cell_type": "markdown",
      "metadata": {
        "id": "Yuige6FLL6-S"
      },
      "source": [
        "#TEST"
      ]
    },
    {
      "cell_type": "code",
      "execution_count": null,
      "metadata": {
        "id": "LtZ0ECWPdxmn"
      },
      "outputs": [],
      "source": [
        "X_test[:5]"
      ]
    },
    {
      "cell_type": "code",
      "execution_count": null,
      "metadata": {
        "id": "KCW8Yp_elOih"
      },
      "outputs": [],
      "source": [
        "# true values\n",
        "y_test[:5]"
      ]
    },
    {
      "cell_type": "code",
      "execution_count": null,
      "metadata": {
        "id": "7k7ePWOPm833"
      },
      "outputs": [],
      "source": [
        "X_test_tokenized = tokenizer(X_test, padding=True, truncation=True, max_length=512)\n",
        "test_dataset = Dataset(X_test_tokenized)"
      ]
    },
    {
      "cell_type": "code",
      "execution_count": null,
      "metadata": {
        "id": "2pdnl1rlm-cI"
      },
      "outputs": [],
      "source": [
        "# CHANGE MODEL PATH TO BEST PERFORMING MODEL\n",
        "model_path = \"/content/MyDrive/MyDrive/Greek Bert Experiment/output/checkpoint-2000\"\n",
        "model = BertForSequenceClassification.from_pretrained(model_path, num_labels=len(type_int), ignore_mismatched_sizes=True)"
      ]
    },
    {
      "cell_type": "code",
      "execution_count": null,
      "metadata": {
        "id": "qwFtUAcAnILG"
      },
      "outputs": [],
      "source": [
        "test_trainer = Trainer(model)"
      ]
    },
    {
      "cell_type": "code",
      "execution_count": null,
      "metadata": {
        "id": "bHL0hP5OnKGm"
      },
      "outputs": [],
      "source": [
        "raw_pred, _, _ = test_trainer.predict(test_dataset)"
      ]
    },
    {
      "cell_type": "code",
      "execution_count": null,
      "metadata": {
        "id": "JYwo11aDnL8K"
      },
      "outputs": [],
      "source": [
        "y_pred = np.argmax(raw_pred, axis=1)"
      ]
    },
    {
      "cell_type": "code",
      "execution_count": null,
      "metadata": {
        "id": "w2wJWwbKtrn4"
      },
      "outputs": [],
      "source": [
        "predictions = y_pred.tolist()"
      ]
    },
    {
      "cell_type": "code",
      "execution_count": null,
      "metadata": {
        "id": "DxDk_xLhuQPd"
      },
      "outputs": [],
      "source": [
        "predictions[:5]"
      ]
    },
    {
      "cell_type": "code",
      "execution_count": null,
      "metadata": {
        "id": "Th7XF2AI4r8n"
      },
      "outputs": [],
      "source": [
        "inv_pos_int = {v: k for k, v in type_int.items()}"
      ]
    },
    {
      "cell_type": "code",
      "execution_count": null,
      "metadata": {
        "id": "CXycLQMU45t2"
      },
      "outputs": [],
      "source": [
        "type_true = y_test.copy()\n",
        "type_predictions = predictions.copy()"
      ]
    },
    {
      "cell_type": "code",
      "execution_count": null,
      "metadata": {
        "id": "XkENHjLp50V-"
      },
      "outputs": [],
      "source": [
        "for i in range(len(type_true)):\n",
        "  try:\n",
        "    type_true[i] = inv_pos_int[type_true[i]]\n",
        "  except:\n",
        "    pass\n",
        "\n",
        "for i in range(len(type_predictions)):\n",
        "  type_predictions[i] = inv_pos_int[type_predictions[i]]"
      ]
    },
    {
      "cell_type": "code",
      "execution_count": null,
      "metadata": {
        "id": "lrNxNdOj6YDV"
      },
      "outputs": [],
      "source": [
        "print(type_true[:10])\n",
        "print(type_predictions[:10])"
      ]
    },
    {
      "cell_type": "code",
      "execution_count": null,
      "metadata": {
        "id": "OsTlbvfRpSiu"
      },
      "outputs": [],
      "source": [
        "wrong = 0\n",
        "total = 0\n",
        "\n",
        "for i in range(len(type_true)):\n",
        "  if type_true[i] != type_predictions[i]:\n",
        "    wrong += 1\n",
        "    total += 1\n",
        "  else:\n",
        "    total += 1\n",
        "\n",
        "print(1-(wrong/total))"
      ]
    },
    {
      "cell_type": "markdown",
      "metadata": {
        "id": "UdsnNTMvBX4n"
      },
      "source": [
        "#Split Up Data into Groups"
      ]
    },
    {
      "cell_type": "markdown",
      "metadata": {
        "id": "EFRes49YMlM2"
      },
      "source": [
        "Analyze performance between content words (common nouns, proper nouns, adjectives, verbs, adverbs) and function words (i.e. conjunctions and prepositions)\n"
      ]
    },
    {
      "cell_type": "code",
      "execution_count": null,
      "metadata": {
        "id": "ZgIlOHQqNjlp"
      },
      "outputs": [],
      "source": [
        "content = []\n",
        "function = []\n",
        "\n",
        "\n",
        "for i in range(len(pos_true)):\n",
        "  if pos_true[i] in ('noun', 'adjective', 'verb'):\n",
        "    content.append(tuple((X_test[i], pos_true[i], pos_predictions[i])))\n",
        "  else:\n",
        "    function.append(tuple((X_test[i], pos_true[i], pos_predictions[i])))"
      ]
    },
    {
      "cell_type": "markdown",
      "metadata": {
        "id": "8xnuj9CeZdBm"
      },
      "source": [
        "Analyze performance between words seen in the training dataset and those only seen in the test dataset"
      ]
    },
    {
      "cell_type": "code",
      "execution_count": null,
      "metadata": {
        "id": "-FgiX9cfZqBT"
      },
      "outputs": [],
      "source": [
        "in_train = []\n",
        "out_train = []\n",
        "\n",
        "for i in range(len(pos_true)):\n",
        "  if (X_test[i] in X_test) or (X_test[i] in X_val):\n",
        "    in_train.append(tuple((X_test[i], pos_true[i], pos_predictions[i])))\n",
        "  else:\n",
        "    out_train.append(tuple((X_test[i], pos_true[i], pos_predictions[i])))"
      ]
    },
    {
      "cell_type": "code",
      "execution_count": null,
      "metadata": {
        "id": "E-kQ_lcH2RYU"
      },
      "outputs": [],
      "source": [
        "# adverbs make my brain hurt, so they're just going to be \"function\" words\n",
        "pos_list = ['noun', 'adjective', 'verb', 'adverb', \n",
        "            'determiner', 'conjunction', 'preposition',\n",
        "              'pronoun', 'particle', 'number', 'interjection']"
      ]
    },
    {
      "cell_type": "markdown",
      "metadata": {
        "id": "bjSndcKELRD4"
      },
      "source": [
        "Analyze performance between ambiguous (lemma occurs with multiple ln domains) and unambiguous (lemma occurs with single ln domain) words"
      ]
    },
    {
      "cell_type": "code",
      "execution_count": null,
      "metadata": {
        "id": "56pvJOUfLaNV"
      },
      "outputs": [],
      "source": [
        "ambiguous_ln = []\n",
        "ambiguous_words = []\n",
        "unambiguous_ln = []\n",
        "\n",
        "for i in range(len(X_test)):\n",
        "  a = int_ln_dict[str(y_test[i])]\n",
        "  b = int_ln_dict[str(predictions[i])]\n",
        "  domains = lemma_ln_dict[X_test[i]]\n",
        "  if len(domains) > 1:\n",
        "    ambiguous_ln.append(tuple((a, b)))\n",
        "    ambiguous_words.append(X_test[i])\n",
        "  else:\n",
        "    unambiguous_ln.append(tuple((a, b)))"
      ]
    },
    {
      "cell_type": "markdown",
      "metadata": {
        "id": "MUo2gQxaiySk"
      },
      "source": [
        "# Functions"
      ]
    },
    {
      "cell_type": "code",
      "execution_count": null,
      "metadata": {
        "id": "v_zkfBeeix47"
      },
      "outputs": [],
      "source": [
        "def generate_incorrect_lists(set_list: list) -> list:\n",
        "  incorrect_list = []\n",
        "\n",
        "  for i in set_list:\n",
        "    if i[1] != i[2]:\n",
        "      incorrect_list.append(i)\n",
        "\n",
        "  return incorrect_list"
      ]
    },
    {
      "cell_type": "code",
      "execution_count": null,
      "metadata": {
        "id": "S-0hFFWJUtUF"
      },
      "outputs": [],
      "source": [
        "def generate_incorrect_ambiguity_list(set_list: list, ambiguous_words: list) -> list:\n",
        "  incorrect_list = []\n",
        "  corresponding_domains = []\n",
        "\n",
        "  for i in range(len(set_list)):\n",
        "    if set_list[i][0] != set_list[i][1]:\n",
        "      incorrect_list.append(set_list[i])\n",
        "      corresponding_domains.append(lemma_ln_dict[ambiguous_words[i]])\n",
        "\n",
        "  return incorrect_list, corresponding_domains"
      ]
    },
    {
      "cell_type": "code",
      "execution_count": null,
      "metadata": {
        "id": "XUJNMuMskyKD"
      },
      "outputs": [],
      "source": [
        "def count_all_wrong(wrong_list: list, total: list):\n",
        "  wrong_count = len(wrong_list)\n",
        "  all_count = len(total)\n",
        "  accuracy = wrong_count/all_count\n",
        "\n",
        "  print(f'{wrong_count} domains incorrectly identified out of {all_count}.')\n",
        "  print(f'{round(accuracy, 4)*100}% of domains incorrectly identified')"
      ]
    },
    {
      "cell_type": "code",
      "execution_count": null,
      "metadata": {
        "id": "4B4jIBTbnKbD"
      },
      "outputs": [],
      "source": [
        "def count_wrong_by_pos(pos_list: list, wrong_list: list) -> dict:\n",
        "  key_list = pos_list\n",
        "  wrong_pos_counts = {k:0 for k in key_list}\n",
        "  \n",
        "  for i in wrong_list:\n",
        "    pos = i[0][1]\n",
        "    wrong_pos_counts[pos] += i[1]\n",
        "  \n",
        "  return wrong_pos_counts"
      ]
    },
    {
      "cell_type": "code",
      "execution_count": null,
      "metadata": {
        "id": "5dMFdp5cnnAB"
      },
      "outputs": [],
      "source": [
        "def count_all_pos(pos_list: list, set_list: list) -> dict:\n",
        "  key_list = pos_list\n",
        "  all_pos_counts = {k:0 for k in key_list}\n",
        "\n",
        "  try:\n",
        "    for i in set_list:\n",
        "      all_pos_counts[i] += 1\n",
        "  except:\n",
        "    for i in set_list:\n",
        "      all_pos_counts[i[1]] += 1\n",
        "    \n",
        "  return all_pos_counts"
      ]
    },
    {
      "cell_type": "code",
      "execution_count": null,
      "metadata": {
        "id": "VxNRlr_Emuka"
      },
      "outputs": [],
      "source": [
        "def create_pos_stats(wrong_pos_counts: dict, all_pos_counts: dict) -> list:   \n",
        "  stats = []\n",
        "  for i in wrong_pos_counts:\n",
        "    if all_pos_counts[i] == 0:\n",
        "          stats.append('{} out of {} {}s incorrect (0.0)'\n",
        "              .format(wrong_pos_counts[i], all_pos_counts[i], i))\n",
        "    else:\n",
        "        stats.append('{} out of {} {}s incorrect ({})'\n",
        "              .format(wrong_pos_counts[i], all_pos_counts[i], i, \n",
        "                      round((wrong_pos_counts[i]/all_pos_counts[i]), 4)))\n",
        "\n",
        "  return stats"
      ]
    },
    {
      "cell_type": "code",
      "execution_count": null,
      "metadata": {
        "id": "QRGAmvwp0Xtk"
      },
      "outputs": [],
      "source": [
        "def return_relevant_stats(pos_type: str, stats: list):\n",
        "  pos_type = pos_type.lower()\n",
        "  # if pos_list changes, adjust where list is split\n",
        "  pos_dict = {\n",
        "      'content': stats[:3],\n",
        "      'function': stats[3:],\n",
        "      'both': stats\n",
        "  }\n",
        "\n",
        "  if pos_type in pos_dict:\n",
        "    for i in pos_dict[pos_type]:\n",
        "      print(i)\n",
        "  else:\n",
        "    print('Please enter \"content\", \"function\", or \"both\" for pos_type.')"
      ]
    },
    {
      "cell_type": "markdown",
      "metadata": {
        "id": "9udULlg3PQuc"
      },
      "source": [
        "#Content word analysis"
      ]
    },
    {
      "cell_type": "code",
      "execution_count": null,
      "metadata": {
        "id": "CcYYeyYfPtAj"
      },
      "outputs": [],
      "source": [
        "incorrect_content = generate_incorrect_lists(content)\n",
        "incorrect_content[:5]"
      ]
    },
    {
      "cell_type": "code",
      "execution_count": null,
      "metadata": {
        "id": "OG4gZJqQ5VTd"
      },
      "outputs": [],
      "source": [
        "count_all_wrong(incorrect_content, content)"
      ]
    },
    {
      "cell_type": "code",
      "execution_count": null,
      "metadata": {
        "id": "4omiJcsoQHZ0"
      },
      "outputs": [],
      "source": [
        "cont_counts = Counter(incorrect_content).most_common()\n",
        "cont_counts[:5]"
      ]
    },
    {
      "cell_type": "code",
      "execution_count": null,
      "metadata": {
        "id": "pZZ05CS-pdCl"
      },
      "outputs": [],
      "source": [
        "cont_wrong = count_wrong_by_pos(pos_list, cont_counts)\n",
        "cont_all = count_all_pos(pos_list, pos_true)\n",
        "cont_stats = create_pos_stats(cont_wrong, cont_all)\n",
        "return_relevant_stats('content', cont_stats)"
      ]
    },
    {
      "cell_type": "markdown",
      "metadata": {
        "id": "EuPy2Ce6Pm-Q"
      },
      "source": [
        "#Function Word Analysis"
      ]
    },
    {
      "cell_type": "code",
      "execution_count": null,
      "metadata": {
        "id": "HHEzSpRaLTMp"
      },
      "outputs": [],
      "source": [
        "incorrect_function = generate_incorrect_lists(function)\n",
        "incorrect_function[:5]"
      ]
    },
    {
      "cell_type": "code",
      "execution_count": null,
      "metadata": {
        "id": "Wq3au6OqLTWo"
      },
      "outputs": [],
      "source": [
        "count_all_wrong(incorrect_function, function)"
      ]
    },
    {
      "cell_type": "code",
      "execution_count": null,
      "metadata": {
        "id": "GC-JycnHMAbg"
      },
      "outputs": [],
      "source": [
        "func_counts = Counter(incorrect_function).most_common()\n",
        "func_counts[:5]"
      ]
    },
    {
      "cell_type": "code",
      "execution_count": null,
      "metadata": {
        "id": "JuPGMlXyqXKV"
      },
      "outputs": [],
      "source": [
        "func_wrong = count_wrong_by_pos(pos_list, func_counts)\n",
        "func_all = count_all_pos(pos_list, pos_true)\n",
        "func_stats = create_pos_stats(func_wrong, func_all)\n",
        "return_relevant_stats('function', func_stats)"
      ]
    },
    {
      "cell_type": "markdown",
      "metadata": {
        "id": "P91JIYUKZR_e"
      },
      "source": [
        "# In Training Analysis"
      ]
    },
    {
      "cell_type": "code",
      "execution_count": null,
      "metadata": {
        "id": "IcRUR2bJZX2T"
      },
      "outputs": [],
      "source": [
        "in_train[:5]"
      ]
    },
    {
      "cell_type": "code",
      "execution_count": null,
      "metadata": {
        "id": "yQVyf0Lxa59S"
      },
      "outputs": [],
      "source": [
        "incorrect_in = generate_incorrect_lists(in_train)\n",
        "count_all_wrong(incorrect_in, in_train)"
      ]
    },
    {
      "cell_type": "code",
      "execution_count": null,
      "metadata": {
        "id": "EUSem3ltcuq6"
      },
      "outputs": [],
      "source": [
        "in_counts = Counter(incorrect_in).most_common()\n",
        "in_counts[:5]"
      ]
    },
    {
      "cell_type": "code",
      "execution_count": null,
      "metadata": {
        "id": "xhWyhUrbqr6q"
      },
      "outputs": [],
      "source": [
        "in_wrong = count_wrong_by_pos(pos_list, in_counts)\n",
        "in_all = count_all_pos(pos_list, in_train)\n",
        "in_stats = create_pos_stats(in_wrong, in_all)\n",
        "return_relevant_stats('both', in_stats)"
      ]
    },
    {
      "cell_type": "markdown",
      "metadata": {
        "id": "1f-3Wa6Db9Wf"
      },
      "source": [
        "# Out Of Training Analysis"
      ]
    },
    {
      "cell_type": "code",
      "execution_count": null,
      "metadata": {
        "id": "WEsIhO3vb_3O"
      },
      "outputs": [],
      "source": [
        "out_train[:5]"
      ]
    },
    {
      "cell_type": "code",
      "execution_count": null,
      "metadata": {
        "id": "7n_yXIdtcPvu"
      },
      "outputs": [],
      "source": [
        "incorrect_out = generate_incorrect_lists(out_train)\n",
        "count_all_wrong(incorrect_out, out_train)"
      ]
    },
    {
      "cell_type": "code",
      "execution_count": null,
      "metadata": {
        "id": "Qwaptt50gc5Q"
      },
      "outputs": [],
      "source": [
        "out_counts = Counter(incorrect_out).most_common()\n",
        "out_counts[:5]"
      ]
    },
    {
      "cell_type": "code",
      "execution_count": null,
      "metadata": {
        "id": "Z5am7cTSeq0n"
      },
      "outputs": [],
      "source": [
        "out_wrong = count_wrong_by_pos(pos_list, out_counts)\n",
        "out_all = count_all_pos(pos_list, out_train)\n",
        "out_stats = create_pos_stats(out_wrong, out_all)\n",
        "return_relevant_stats('both', out_stats)"
      ]
    },
    {
      "cell_type": "markdown",
      "metadata": {
        "id": "xtW8q3wUKPe9"
      },
      "source": [
        "#Ambiguous Words"
      ]
    },
    {
      "cell_type": "code",
      "execution_count": null,
      "metadata": {
        "id": "Hez7U5q2KSVc"
      },
      "outputs": [],
      "source": [
        "ambiguous_ln[:5]"
      ]
    },
    {
      "cell_type": "code",
      "execution_count": null,
      "metadata": {
        "id": "ZyEZH5CbKVY0"
      },
      "outputs": [],
      "source": [
        "incorrect_amb, amb_ln = generate_incorrect_ambiguity_list(ambiguous_ln, ambiguous_words)\n",
        "count_all_wrong(incorrect_amb, ambiguous_ln)"
      ]
    },
    {
      "cell_type": "code",
      "execution_count": null,
      "metadata": {
        "id": "PseLpoPdKfQt"
      },
      "outputs": [],
      "source": [
        "amb_counts = Counter(incorrect_amb).most_common()\n",
        "amb_counts[:5]"
      ]
    },
    {
      "cell_type": "code",
      "execution_count": null,
      "metadata": {
        "id": "M2sIxlg2KmDC"
      },
      "outputs": [],
      "source": [
        "amb_wrong = count_wrong_ln_by_pos(pos_list, amb_counts)\n",
        "amb_all = count_all_pos(pos_list, ambiguous_ln)\n",
        "amb_stats = create_pos_stats(amb_wrong, amb_all)\n",
        "return_relevant_stats('both', amb_stats)"
      ]
    },
    {
      "cell_type": "markdown",
      "metadata": {
        "id": "Ii94w7bUY64W"
      },
      "source": [
        "Find the instances of these ln domains and see if the model is simply guessing the most common domain for these ambigous words."
      ]
    },
    {
      "cell_type": "code",
      "execution_count": null,
      "metadata": {
        "id": "iqWHdhuZX_g3"
      },
      "outputs": [],
      "source": [
        "common_counts = 0\n",
        "not_common_counts = 0\n",
        "for i in amb_counts:\n",
        "  j = incorrect_amb.index(i[0])\n",
        "  current_dict = amb_ln[j]\n",
        "  most_common = max(current_dict, key = current_dict.get)\n",
        "  if most_common == i[0][1]:\n",
        "    common_counts += i[1]\n",
        "  else:\n",
        "    not_common_counts += i[1]\n",
        "\n",
        "print(f'model incorrectly guessed the most common domain {common_counts} times')\n",
        "print(f'model incorrectly guessed something besides the most common domain {not_common_counts} times')"
      ]
    },
    {
      "cell_type": "markdown",
      "metadata": {
        "id": "PO_QngK0K1UQ"
      },
      "source": [
        "#Unambiguous Words"
      ]
    },
    {
      "cell_type": "code",
      "execution_count": null,
      "metadata": {
        "id": "Oe32QoYVK3rQ"
      },
      "outputs": [],
      "source": [
        "unambiguous_ln[:5]"
      ]
    },
    {
      "cell_type": "code",
      "execution_count": null,
      "metadata": {
        "id": "DzuoXGzuK3wR"
      },
      "outputs": [],
      "source": [
        "incorrect_unamb = generate_incorrect_lists(unambiguous_ln)\n",
        "count_all_wrong(incorrect_unamb, unambiguous_ln)"
      ]
    },
    {
      "cell_type": "code",
      "execution_count": null,
      "metadata": {
        "id": "H718t5h7K31Z"
      },
      "outputs": [],
      "source": [
        "unamb_counts = Counter(incorrect_unamb).most_common()\n",
        "unamb_counts[:5]"
      ]
    },
    {
      "cell_type": "code",
      "execution_count": null,
      "metadata": {
        "id": "aCoV2D8CK354"
      },
      "outputs": [],
      "source": [
        "unamb_wrong = count_wrong_ln_by_pos(pos_list, unamb_counts)\n",
        "unamb_all = count_all_pos(pos_list, unambiguous_ln)\n",
        "unamb_stats = create_pos_stats(unamb_wrong, unamb_all)\n",
        "return_relevant_stats('both', unamb_stats)"
      ]
    },
    {
      "cell_type": "markdown",
      "metadata": {
        "id": "f7E4QTdFOLEP"
      },
      "source": [
        "#Unfiltered Test Analsis"
      ]
    },
    {
      "cell_type": "code",
      "execution_count": null,
      "metadata": {
        "id": "mwahYnhtu64r"
      },
      "outputs": [],
      "source": [
        "mismatches = []\n",
        "\n",
        "for i in range(len(pos_true)):\n",
        "  if y_test[i] != predictions[i]:\n",
        "    a = int_ln_dict[str(y_test[i])]\n",
        "    b = int_ln_dict[str(predictions[i])]\n",
        "    mismatches.append(tuple((a, b)))\n",
        "\n",
        "mismatches[:5]"
      ]
    },
    {
      "cell_type": "code",
      "execution_count": null,
      "metadata": {
        "id": "eJr6znot-s0I"
      },
      "outputs": [],
      "source": [
        "all_wrong = generate_incorrect_lists(mismatches)\n",
        "count_all_wrong(all_wrong, y_test)"
      ]
    },
    {
      "cell_type": "code",
      "execution_count": null,
      "metadata": {
        "id": "55G2Lk21xpbl"
      },
      "outputs": [],
      "source": [
        "all_counts = Counter(mismatches).most_common()\n",
        "all_counts[:5]"
      ]
    },
    {
      "cell_type": "code",
      "execution_count": null,
      "metadata": {
        "id": "v6wA9sa8t4Wp"
      },
      "outputs": [],
      "source": [
        "wrong_counts = count_wrong_by_pos(pos_list, all_counts)\n",
        "all_counts = count_all_pos(pos_list, y_test)\n",
        "all_stats = create_pos_stats(wrong_counts, all_counts)\n",
        "return_relevant_stats('both', all_stats)"
      ]
    }
  ],
  "metadata": {
    "accelerator": "GPU",
    "colab": {
      "machine_shape": "hm",
      "provenance": [],
      "include_colab_link": true
    },
    "gpuClass": "premium",
    "kernelspec": {
      "display_name": "Python 3",
      "name": "python3"
    },
    "language_info": {
      "name": "python"
    }
  },
  "nbformat": 4,
  "nbformat_minor": 0
}